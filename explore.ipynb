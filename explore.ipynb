{
 "cells": [
  {
   "cell_type": "code",
   "execution_count": null,
   "id": "048a0415",
   "metadata": {},
   "outputs": [],
   "source": [
    "# Get Patient list\n",
    "# read patients_to_filter.txt to list\n",
    "\n",
    "patient_list = []\n",
    "with open(\"patients_to_filter.txt\", \"r\") as file:\n",
    "    for line in file:\n",
    "        patient_list.append(line.strip())\n",
    "patient_list"
   ]
  },
  {
   "cell_type": "markdown",
   "id": "cbe789b0",
   "metadata": {},
   "source": [
    "# Getting Patients with specific code"
   ]
  },
  {
   "cell_type": "code",
   "execution_count": null,
   "id": "c4d0376b",
   "metadata": {},
   "outputs": [],
   "source": [
    "import requests\n",
    "import json\n",
    "\n",
    "\n",
    "# Function to get patients with a specific condition code\n",
    "def get_patients_with_condition(condition_code, base_url=\"http://localhost:8080/fhir/\"):\n",
    "    patients = []\n",
    "    url = f\"{base_url}Condition?code={condition_code}\"\n",
    "\n",
    "    while url:\n",
    "        response = requests.get(url)\n",
    "        if response.status_code != 200:\n",
    "            print(f\"Failed to fetch data: {response.status_code}\")\n",
    "            break\n",
    "\n",
    "        data = response.json()\n",
    "        if not data.get(\"entry\"):\n",
    "            break\n",
    "\n",
    "        # Extract patient IDs from the current page\n",
    "        for entry in data[\"entry\"]:\n",
    "            patient_id = entry[\"resource\"][\"subject\"][\"reference\"].split(\"/\")[-1]\n",
    "            patients.append(patient_id)\n",
    "\n",
    "        print(f\"Found {len(patients)} patients so far...\")\n",
    "\n",
    "        # Look for the next page URL\n",
    "        url = None\n",
    "        for link in data.get(\"link\", []):\n",
    "            if link.get(\"relation\") == \"next\":\n",
    "                url = link.get(\"url\")\n",
    "                break\n",
    "\n",
    "    return patients"
   ]
  },
  {
   "cell_type": "code",
   "execution_count": null,
   "id": "ffd45c0a",
   "metadata": {},
   "outputs": [],
   "source": [
    "patient_list = get_patients_with_condition(\"I82401\")"
   ]
  },
  {
   "cell_type": "code",
   "execution_count": null,
   "id": "4d968acb",
   "metadata": {},
   "outputs": [],
   "source": [
    "# create new patient ids to filter text file\n",
    "with open(\"patient_ids_to_filter.txt\", \"w\") as file:\n",
    "    for patient in patient_list:\n",
    "        file.write(f\"{patient}\\n\")"
   ]
  },
  {
   "cell_type": "code",
   "execution_count": null,
   "id": "bbd95a1d",
   "metadata": {},
   "outputs": [],
   "source": [
    "# call FHIR API to get patient data and then for each patient_id get patient identifier key_value pairs\n",
    "# hapi fhir is running on localhost:8080/fhir"
   ]
  },
  {
   "cell_type": "code",
   "execution_count": null,
   "id": "eafb4b07",
   "metadata": {},
   "outputs": [],
   "source": [
    "import requests\n",
    "\n",
    "patient_to_identifier = {}\n",
    "for patient_id in patient_list:\n",
    "    response = requests.get(f\"http://localhost:8080/fhir/Patient/{patient_id}\")\n",
    "    if response.status_code == 200:\n",
    "        patient_data = response.json()\n",
    "        identifiers = patient_data.get(\"identifier\", [])\n",
    "        identifiers = [identifier[\"value\"] for identifier in identifiers][-1]\n",
    "        patient_to_identifier[patient_id] = identifiers\n",
    "    else:\n",
    "        print(f\"Failed to fetch data for patient {patient_id}: {response.status_code}\")"
   ]
  },
  {
   "cell_type": "code",
   "execution_count": null,
   "id": "7738ca75",
   "metadata": {},
   "outputs": [],
   "source": [
    "patient_to_identifier"
   ]
  },
  {
   "cell_type": "markdown",
   "id": "79cd52a3",
   "metadata": {},
   "source": [
    "# Get Notes"
   ]
  },
  {
   "cell_type": "code",
   "execution_count": null,
   "id": "8c99105f",
   "metadata": {},
   "outputs": [],
   "source": [
    "# now load all the notes csv files from fhir_notes folder and filter rows that subject column matches one of these patient identifiers\n",
    "# then write the filtered notes to a new folder called filtered_fhir_notes and same filename as original csv file with csv extension\n",
    "\n",
    "import pandas as pd\n",
    "import os\n",
    "import glob\n",
    "\n",
    "# Create the filtered_fhir_notes directory if it doesn't exist\n",
    "filtered_notes_dir = \"filtered_fhir_notes\"\n",
    "os.makedirs(filtered_notes_dir, exist_ok=True)\n",
    "\n",
    "# Get all CSV files in the fhir_notes directory\n",
    "notes_files = glob.glob(\"fhir_notes/*.csv\")\n",
    "\n",
    "subject_ids = list(patient_to_identifier.values())\n",
    "\n",
    "for file_path in notes_files:\n",
    "    print(f\"Processing file: {file_path}\")\n",
    "    df = pd.read_csv(file_path)\n",
    "    # Filter rows where the 'subject_id' column matches any of the patient identifiers\n",
    "    filtered_df = df[df[\"subject_id\"].astype(str).str.strip().isin(subject_ids)]\n",
    "    print(f\"Filtered {len(filtered_df)} rows from {len(df)} total rows in {file_path}\")\n",
    "\n",
    "    # Write the filtered DataFrame to a new CSV file in the filtered_fhir_notes directory\n",
    "    output_file_path = os.path.join(filtered_notes_dir, os.path.basename(file_path))\n",
    "    filtered_df.to_csv(output_file_path, index=False)\n",
    "    print(f\"Filtered notes written to {output_file_path}\")"
   ]
  }
 ],
 "metadata": {
  "kernelspec": {
   "display_name": "base",
   "language": "python",
   "name": "python3"
  },
  "language_info": {
   "codemirror_mode": {
    "name": "ipython",
    "version": 3
   },
   "file_extension": ".py",
   "mimetype": "text/x-python",
   "name": "python",
   "nbconvert_exporter": "python",
   "pygments_lexer": "ipython3",
   "version": "3.10.18"
  }
 },
 "nbformat": 4,
 "nbformat_minor": 5
}
